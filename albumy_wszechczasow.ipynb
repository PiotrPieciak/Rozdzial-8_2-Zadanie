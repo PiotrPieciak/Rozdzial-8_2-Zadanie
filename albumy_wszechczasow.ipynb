{
 "cells": [
  {
   "cell_type": "markdown",
   "id": "7ca53283-6731-4c65-be93-b8838ad4bb4d",
   "metadata": {},
   "source": [
    "#Program Albumy Wszechczasów"
   ]
  },
  {
   "cell_type": "markdown",
   "id": "06d5fe40-1bb2-4a9c-bfb1-decf73449ac9",
   "metadata": {},
   "source": [
    "####Import biblioteki i wczytanie danych ze strony internetowej"
   ]
  },
  {
   "cell_type": "code",
   "execution_count": 108,
   "id": "715e5c0b-0b46-4bac-8dc3-5dd5df9253ed",
   "metadata": {},
   "outputs": [],
   "source": [
    "import pandas as pd\n",
    "data = pd.read_html('https://www.officialcharts.com/chart-news/the-best-selling-albums-of-all-time-on-the-official-uk-chart__15551/', header=0)"
   ]
  },
  {
   "cell_type": "code",
   "execution_count": 109,
   "id": "cd589177-6ef0-4fe5-89a8-38b203b2d03e",
   "metadata": {},
   "outputs": [],
   "source": [
    "best_albums = data[0]"
   ]
  },
  {
   "cell_type": "markdown",
   "id": "33d689bf-ee4c-4a74-8505-bc39830eab7b",
   "metadata": {},
   "source": [
    "####1 Zmina nazwy kolumn"
   ]
  },
  {
   "cell_type": "code",
   "execution_count": 113,
   "id": "2db50fd2-e79b-40cf-b966-c08e38922ba8",
   "metadata": {},
   "outputs": [],
   "source": [
    "best_albums.rename(columns={'POS':'POZYCJA','TITLE':'TYTUŁ','ARTIST':'ARTYSTA','YEAR':'ROK','HIGH POSN':'MAX POZ',},inplace=True)"
   ]
  },
  {
   "cell_type": "markdown",
   "id": "10ac8b2f-775f-4ebb-ae6c-f4d2895996b4",
   "metadata": {},
   "source": [
    "####2 Zliczenie i wydrukowanie ilości pojedynczych artystów na liscie"
   ]
  },
  {
   "cell_type": "code",
   "execution_count": 116,
   "id": "2bb62633-b70b-4eac-8fdd-f6ea1ae9e36d",
   "metadata": {},
   "outputs": [
    {
     "name": "stdout",
     "output_type": "stream",
     "text": [
      "Na liście znajduje się 47 pojedyńczych artystów\n"
     ]
    }
   ],
   "source": [
    "print(\"Na liście znajduje się\",best_albums['ARTYSTA'].nunique() ,\"pojedyńczych artystów\")"
   ]
  },
  {
   "cell_type": "markdown",
   "id": "07405fbd-c996-4061-b9f9-0a6618b6fe9b",
   "metadata": {},
   "source": [
    "####3 Zliczenie i wydrukowanie listy z najczesciej powtarzajacymi się Artystami"
   ]
  },
  {
   "cell_type": "code",
   "execution_count": 119,
   "id": "096d3424-e0d6-4b50-a85f-50d4e8ba7653",
   "metadata": {},
   "outputs": [],
   "source": [
    "top_bands= best_albums['ARTYSTA'].value_counts()"
   ]
  },
  {
   "cell_type": "code",
   "execution_count": 121,
   "id": "12cbdf49-0c60-46b8-ab98-6846c14c3ebe",
   "metadata": {},
   "outputs": [
    {
     "name": "stdout",
     "output_type": "stream",
     "text": [
      "Najczesciej na liście pojawiali się następujący artyści:\n",
      " ARTYSTA\n",
      "COLDPLAY     3\n",
      "TAKE THAT    3\n",
      "Name: count, dtype: int64\n"
     ]
    }
   ],
   "source": [
    "print(\"Najczesciej na liście pojawiali się następujący artyści:\\n\",top_bands[top_bands>best_albums['ARTYSTA'].value_counts().max()-1])"
   ]
  },
  {
   "cell_type": "markdown",
   "id": "f772a306-a39b-49d6-bca1-dca6891cdb1b",
   "metadata": {},
   "source": [
    "####4 Zmiana liter w kolumnach na wielką litere z przodu i na małe pozostałe"
   ]
  },
  {
   "cell_type": "code",
   "execution_count": 124,
   "id": "d2e7a409-0e90-4860-8ff5-d68155a018ec",
   "metadata": {},
   "outputs": [],
   "source": [
    "best_albums.rename(str.capitalize, axis='columns',inplace=True)"
   ]
  },
  {
   "cell_type": "markdown",
   "id": "9a1bf2fd-5e77-427e-8dea-e599c1101e90",
   "metadata": {},
   "source": [
    "####5 Usuniecie kolumny \"Max poz'"
   ]
  },
  {
   "cell_type": "code",
   "execution_count": 127,
   "id": "897c3a1e-d43f-435f-a413-b69d67c16296",
   "metadata": {},
   "outputs": [],
   "source": [
    "best_albums.drop('Max poz',axis=1,inplace=True)"
   ]
  },
  {
   "cell_type": "markdown",
   "id": "198968ec-ac24-45e6-a948-d8d5ddf1cb54",
   "metadata": {},
   "source": [
    "####6 Zliczenie w którym roku wydano najwiecej albumów i zwrócenie ich listy z poszczególnymi wartosciami. "
   ]
  },
  {
   "cell_type": "code",
   "execution_count": 130,
   "id": "1a885934-732f-4c0e-9a42-7e956e0b8d2b",
   "metadata": {},
   "outputs": [
    {
     "name": "stdout",
     "output_type": "stream",
     "text": [
      "Najwiecej albumow z listy wydano w latach:\n",
      " Rok\n",
      "2000    4\n",
      "1987    4\n",
      "Name: count, dtype: int64\n"
     ]
    }
   ],
   "source": [
    "top_year= best_albums['Rok'].value_counts()\n",
    "print(\"Najwiecej albumow z listy wydano w latach:\\n\", top_year[top_year>best_albums['Rok'].value_counts().max()-1])"
   ]
  },
  {
   "cell_type": "markdown",
   "id": "2b0365c4-cda5-4f0d-9900-b75155a6b476",
   "metadata": {},
   "source": [
    "####7 Zliczenie i wydrukowanie ile aalbumów z listy wydano między 1960 a 1990 rokiem włącznie"
   ]
  },
  {
   "cell_type": "code",
   "execution_count": 132,
   "id": "62f763b9-013a-4000-aa09-f6eee9fc0557",
   "metadata": {},
   "outputs": [
    {
     "name": "stdout",
     "output_type": "stream",
     "text": [
      "Na liście znajduje się  22  albumów wydanych między 1960 a 1990 rokiem włącznie\n"
     ]
    }
   ],
   "source": [
    "albums_between_60_90 = best_albums[((best_albums['Rok']>=1960) & (best_albums['Rok']<=1990))]\n",
    "print(\"Na liście znajduje się \",albums_between_60_90['Pozycja'].count(),\" albumów wydanych między 1960 a 1990 rokiem włącznie\")"
   ]
  },
  {
   "cell_type": "markdown",
   "id": "04e6f894-4336-4de8-a2e1-f64edc10a613",
   "metadata": {},
   "source": [
    "####8 Sprawdzenie i Wydrukowanie kiedy wydano najmłodszy album z listy"
   ]
  },
  {
   "cell_type": "code",
   "execution_count": 135,
   "id": "44027214-8bcb-4e2e-893a-421b4d74c0d0",
   "metadata": {},
   "outputs": [
    {
     "name": "stdout",
     "output_type": "stream",
     "text": [
      "Najmłodszy album na liście został wydany w 2015 roku.\n"
     ]
    }
   ],
   "source": [
    "best_albums.sort_values(by='Rok', ascending=False, inplace=True)\n",
    "print(\"Najmłodszy album na liście został wydany w\",best_albums.iloc[0,3],\"roku.\")"
   ]
  },
  {
   "cell_type": "markdown",
   "id": "c74cbbea-9488-4f42-b609-401143bbc34d",
   "metadata": {
    "scrolled": true
   },
   "source": [
    "####9 Przygotowanie listy najwczesniej wydanych albumów każdego artysty, który znalazł się na liście "
   ]
  },
  {
   "cell_type": "code",
   "execution_count": 138,
   "id": "f9bfa32c-6e90-4d26-8372-9d0fa4038f8d",
   "metadata": {},
   "outputs": [
    {
     "data": {
      "text/html": [
       "<div>\n",
       "<style scoped>\n",
       "    .dataframe tbody tr th:only-of-type {\n",
       "        vertical-align: middle;\n",
       "    }\n",
       "\n",
       "    .dataframe tbody tr th {\n",
       "        vertical-align: top;\n",
       "    }\n",
       "\n",
       "    .dataframe thead th {\n",
       "        text-align: right;\n",
       "    }\n",
       "</style>\n",
       "<table border=\"1\" class=\"dataframe\">\n",
       "  <thead>\n",
       "    <tr style=\"text-align: right;\">\n",
       "      <th></th>\n",
       "      <th>Pozycja</th>\n",
       "      <th>Tytuł</th>\n",
       "      <th>Artysta</th>\n",
       "      <th>Rok</th>\n",
       "    </tr>\n",
       "  </thead>\n",
       "  <tbody>\n",
       "    <tr>\n",
       "      <th>48</th>\n",
       "      <td>49</td>\n",
       "      <td>X</td>\n",
       "      <td>ED SHEERAN</td>\n",
       "      <td>2014</td>\n",
       "    </tr>\n",
       "    <tr>\n",
       "      <th>3</th>\n",
       "      <td>4</td>\n",
       "      <td>21</td>\n",
       "      <td>ADELE</td>\n",
       "      <td>2011</td>\n",
       "    </tr>\n",
       "    <tr>\n",
       "      <th>23</th>\n",
       "      <td>24</td>\n",
       "      <td>CRAZY LOVE</td>\n",
       "      <td>MICHAEL BUBLE</td>\n",
       "      <td>2009</td>\n",
       "    </tr>\n",
       "    <tr>\n",
       "      <th>32</th>\n",
       "      <td>33</td>\n",
       "      <td>ONLY BY THE NIGHT</td>\n",
       "      <td>KINGS OF LEON</td>\n",
       "      <td>2008</td>\n",
       "    </tr>\n",
       "    <tr>\n",
       "      <th>29</th>\n",
       "      <td>30</td>\n",
       "      <td>THE FAME</td>\n",
       "      <td>LADY GAGA</td>\n",
       "      <td>2008</td>\n",
       "    </tr>\n",
       "    <tr>\n",
       "      <th>22</th>\n",
       "      <td>23</td>\n",
       "      <td>SPIRIT</td>\n",
       "      <td>LEONA LEWIS</td>\n",
       "      <td>2007</td>\n",
       "    </tr>\n",
       "    <tr>\n",
       "      <th>57</th>\n",
       "      <td>58</td>\n",
       "      <td>EYES OPEN</td>\n",
       "      <td>SNOW PATROL</td>\n",
       "      <td>2006</td>\n",
       "    </tr>\n",
       "    <tr>\n",
       "      <th>12</th>\n",
       "      <td>13</td>\n",
       "      <td>BACK TO BLACK</td>\n",
       "      <td>AMY WINEHOUSE</td>\n",
       "      <td>2006</td>\n",
       "    </tr>\n",
       "    <tr>\n",
       "      <th>58</th>\n",
       "      <td>59</td>\n",
       "      <td>NEVER FORGET - THE ULTIMATE COLLECTION</td>\n",
       "      <td>TAKE THAT</td>\n",
       "      <td>2005</td>\n",
       "    </tr>\n",
       "    <tr>\n",
       "      <th>37</th>\n",
       "      <td>38</td>\n",
       "      <td>SCISSOR SISTERS</td>\n",
       "      <td>SCISSOR SISTERS</td>\n",
       "      <td>2004</td>\n",
       "    </tr>\n",
       "    <tr>\n",
       "      <th>34</th>\n",
       "      <td>35</td>\n",
       "      <td>HOPES AND FEARS</td>\n",
       "      <td>KEANE</td>\n",
       "      <td>2004</td>\n",
       "    </tr>\n",
       "    <tr>\n",
       "      <th>16</th>\n",
       "      <td>17</td>\n",
       "      <td>BACK TO BEDLAM</td>\n",
       "      <td>JAMES BLUNT</td>\n",
       "      <td>2004</td>\n",
       "    </tr>\n",
       "    <tr>\n",
       "      <th>49</th>\n",
       "      <td>50</td>\n",
       "      <td>COME AWAY WITH ME</td>\n",
       "      <td>NORAH JONES</td>\n",
       "      <td>2002</td>\n",
       "    </tr>\n",
       "    <tr>\n",
       "      <th>44</th>\n",
       "      <td>45</td>\n",
       "      <td>PARACHUTES</td>\n",
       "      <td>COLDPLAY</td>\n",
       "      <td>2000</td>\n",
       "    </tr>\n",
       "    <tr>\n",
       "      <th>24</th>\n",
       "      <td>25</td>\n",
       "      <td>NO ANGEL</td>\n",
       "      <td>DIDO</td>\n",
       "      <td>2000</td>\n",
       "    </tr>\n",
       "    <tr>\n",
       "      <th>54</th>\n",
       "      <td>55</td>\n",
       "      <td>THE MARSHALL MATHERS LP</td>\n",
       "      <td>EMINEM</td>\n",
       "      <td>2000</td>\n",
       "    </tr>\n",
       "    <tr>\n",
       "      <th>42</th>\n",
       "      <td>43</td>\n",
       "      <td>THE MAN WHO</td>\n",
       "      <td>TRAVIS</td>\n",
       "      <td>1999</td>\n",
       "    </tr>\n",
       "    <tr>\n",
       "      <th>47</th>\n",
       "      <td>48</td>\n",
       "      <td>I'VE BEEN EXPECTING YOU</td>\n",
       "      <td>ROBBIE WILLIAMS</td>\n",
       "      <td>1998</td>\n",
       "    </tr>\n",
       "    <tr>\n",
       "      <th>25</th>\n",
       "      <td>26</td>\n",
       "      <td>WHITE LADDER</td>\n",
       "      <td>DAVID GRAY</td>\n",
       "      <td>1998</td>\n",
       "    </tr>\n",
       "    <tr>\n",
       "      <th>52</th>\n",
       "      <td>53</td>\n",
       "      <td>LADIES &amp; GENTLEMEN - THE BEST OF</td>\n",
       "      <td>GEORGE MICHAEL</td>\n",
       "      <td>1998</td>\n",
       "    </tr>\n",
       "    <tr>\n",
       "      <th>14</th>\n",
       "      <td>15</td>\n",
       "      <td>COME ON OVER</td>\n",
       "      <td>SHANIA TWAIN</td>\n",
       "      <td>1997</td>\n",
       "    </tr>\n",
       "    <tr>\n",
       "      <th>27</th>\n",
       "      <td>28</td>\n",
       "      <td>TALK ON CORNERS</td>\n",
       "      <td>CORRS</td>\n",
       "      <td>1997</td>\n",
       "    </tr>\n",
       "    <tr>\n",
       "      <th>17</th>\n",
       "      <td>18</td>\n",
       "      <td>URBAN HYMNS</td>\n",
       "      <td>VERVE</td>\n",
       "      <td>1997</td>\n",
       "    </tr>\n",
       "    <tr>\n",
       "      <th>28</th>\n",
       "      <td>29</td>\n",
       "      <td>SPICE</td>\n",
       "      <td>SPICE GIRLS</td>\n",
       "      <td>1996</td>\n",
       "    </tr>\n",
       "    <tr>\n",
       "      <th>40</th>\n",
       "      <td>41</td>\n",
       "      <td>JAGGED LITTLE PILL</td>\n",
       "      <td>ALANIS MORISSETTE</td>\n",
       "      <td>1995</td>\n",
       "    </tr>\n",
       "    <tr>\n",
       "      <th>4</th>\n",
       "      <td>5</td>\n",
       "      <td>WHAT'S THE STORY MORNING GLORY</td>\n",
       "      <td>OASIS</td>\n",
       "      <td>1995</td>\n",
       "    </tr>\n",
       "    <tr>\n",
       "      <th>59</th>\n",
       "      <td>60</td>\n",
       "      <td>AUTOMATIC FOR THE PEOPLE</td>\n",
       "      <td>REM</td>\n",
       "      <td>1992</td>\n",
       "    </tr>\n",
       "    <tr>\n",
       "      <th>13</th>\n",
       "      <td>14</td>\n",
       "      <td>STARS</td>\n",
       "      <td>SIMPLY RED</td>\n",
       "      <td>1991</td>\n",
       "    </tr>\n",
       "    <tr>\n",
       "      <th>11</th>\n",
       "      <td>12</td>\n",
       "      <td>THE IMMACULATE COLLECTION</td>\n",
       "      <td>MADONNA</td>\n",
       "      <td>1990</td>\n",
       "    </tr>\n",
       "    <tr>\n",
       "      <th>38</th>\n",
       "      <td>39</td>\n",
       "      <td>BUT SERIOUSLY</td>\n",
       "      <td>PHIL COLLINS</td>\n",
       "      <td>1989</td>\n",
       "    </tr>\n",
       "    <tr>\n",
       "      <th>43</th>\n",
       "      <td>44</td>\n",
       "      <td>TRACY CHAPMAN</td>\n",
       "      <td>TRACY CHAPMAN</td>\n",
       "      <td>1988</td>\n",
       "    </tr>\n",
       "    <tr>\n",
       "      <th>35</th>\n",
       "      <td>36</td>\n",
       "      <td>THE JOSHUA TREE</td>\n",
       "      <td>U2</td>\n",
       "      <td>1987</td>\n",
       "    </tr>\n",
       "    <tr>\n",
       "      <th>50</th>\n",
       "      <td>51</td>\n",
       "      <td>GRACELAND</td>\n",
       "      <td>PAUL SIMON</td>\n",
       "      <td>1986</td>\n",
       "    </tr>\n",
       "    <tr>\n",
       "      <th>7</th>\n",
       "      <td>8</td>\n",
       "      <td>BROTHERS IN ARMS</td>\n",
       "      <td>DIRE STRAITS</td>\n",
       "      <td>1985</td>\n",
       "    </tr>\n",
       "    <tr>\n",
       "      <th>15</th>\n",
       "      <td>16</td>\n",
       "      <td>LEGEND</td>\n",
       "      <td>BOB MARLEY &amp; THE WAILERS</td>\n",
       "      <td>1984</td>\n",
       "    </tr>\n",
       "    <tr>\n",
       "      <th>5</th>\n",
       "      <td>6</td>\n",
       "      <td>THRILLER</td>\n",
       "      <td>MICHAEL JACKSON</td>\n",
       "      <td>1982</td>\n",
       "    </tr>\n",
       "    <tr>\n",
       "      <th>0</th>\n",
       "      <td>1</td>\n",
       "      <td>GREATEST HITS</td>\n",
       "      <td>QUEEN</td>\n",
       "      <td>1981</td>\n",
       "    </tr>\n",
       "    <tr>\n",
       "      <th>36</th>\n",
       "      <td>37</td>\n",
       "      <td>THE WAR OF THE WORLDS</td>\n",
       "      <td>JEFF WAYNE</td>\n",
       "      <td>1978</td>\n",
       "    </tr>\n",
       "    <tr>\n",
       "      <th>46</th>\n",
       "      <td>47</td>\n",
       "      <td>GREASE</td>\n",
       "      <td>ORIGINAL SOUNDTRACK</td>\n",
       "      <td>1977</td>\n",
       "    </tr>\n",
       "    <tr>\n",
       "      <th>18</th>\n",
       "      <td>19</td>\n",
       "      <td>BAT OUT OF HELL</td>\n",
       "      <td>MEAT LOAF</td>\n",
       "      <td>1977</td>\n",
       "    </tr>\n",
       "    <tr>\n",
       "      <th>10</th>\n",
       "      <td>11</td>\n",
       "      <td>RUMOURS</td>\n",
       "      <td>FLEETWOOD MAC</td>\n",
       "      <td>1977</td>\n",
       "    </tr>\n",
       "    <tr>\n",
       "      <th>45</th>\n",
       "      <td>46</td>\n",
       "      <td>GREATEST HITS</td>\n",
       "      <td>ABBA</td>\n",
       "      <td>1975</td>\n",
       "    </tr>\n",
       "    <tr>\n",
       "      <th>41</th>\n",
       "      <td>42</td>\n",
       "      <td>TUBULAR BELLS</td>\n",
       "      <td>MIKE OLDFIELD</td>\n",
       "      <td>1973</td>\n",
       "    </tr>\n",
       "    <tr>\n",
       "      <th>6</th>\n",
       "      <td>7</td>\n",
       "      <td>THE DARK SIDE OF THE MOON</td>\n",
       "      <td>PINK FLOYD</td>\n",
       "      <td>1973</td>\n",
       "    </tr>\n",
       "    <tr>\n",
       "      <th>20</th>\n",
       "      <td>21</td>\n",
       "      <td>BRIDGE OVER TROUBLED WATER</td>\n",
       "      <td>SIMON &amp; GARFUNKEL</td>\n",
       "      <td>1970</td>\n",
       "    </tr>\n",
       "    <tr>\n",
       "      <th>2</th>\n",
       "      <td>3</td>\n",
       "      <td>SGT PEPPER'S LONELY HEARTS CLUB BAND</td>\n",
       "      <td>BEATLES</td>\n",
       "      <td>1967</td>\n",
       "    </tr>\n",
       "    <tr>\n",
       "      <th>51</th>\n",
       "      <td>52</td>\n",
       "      <td>THE SOUND OF MUSIC</td>\n",
       "      <td>ORIGINAL CAST RECORDING</td>\n",
       "      <td>1965</td>\n",
       "    </tr>\n",
       "  </tbody>\n",
       "</table>\n",
       "</div>"
      ],
      "text/plain": [
       "    Pozycja                                   Tytuł                   Artysta  \\\n",
       "48       49                                       X                ED SHEERAN   \n",
       "3         4                                      21                     ADELE   \n",
       "23       24                              CRAZY LOVE             MICHAEL BUBLE   \n",
       "32       33                       ONLY BY THE NIGHT             KINGS OF LEON   \n",
       "29       30                                THE FAME                 LADY GAGA   \n",
       "22       23                                  SPIRIT               LEONA LEWIS   \n",
       "57       58                               EYES OPEN               SNOW PATROL   \n",
       "12       13                           BACK TO BLACK             AMY WINEHOUSE   \n",
       "58       59  NEVER FORGET - THE ULTIMATE COLLECTION                 TAKE THAT   \n",
       "37       38                         SCISSOR SISTERS           SCISSOR SISTERS   \n",
       "34       35                         HOPES AND FEARS                     KEANE   \n",
       "16       17                          BACK TO BEDLAM               JAMES BLUNT   \n",
       "49       50                       COME AWAY WITH ME               NORAH JONES   \n",
       "44       45                              PARACHUTES                  COLDPLAY   \n",
       "24       25                                NO ANGEL                      DIDO   \n",
       "54       55                 THE MARSHALL MATHERS LP                    EMINEM   \n",
       "42       43                             THE MAN WHO                    TRAVIS   \n",
       "47       48                 I'VE BEEN EXPECTING YOU           ROBBIE WILLIAMS   \n",
       "25       26                            WHITE LADDER                DAVID GRAY   \n",
       "52       53        LADIES & GENTLEMEN - THE BEST OF            GEORGE MICHAEL   \n",
       "14       15                            COME ON OVER              SHANIA TWAIN   \n",
       "27       28                         TALK ON CORNERS                     CORRS   \n",
       "17       18                             URBAN HYMNS                     VERVE   \n",
       "28       29                                   SPICE               SPICE GIRLS   \n",
       "40       41                      JAGGED LITTLE PILL         ALANIS MORISSETTE   \n",
       "4         5          WHAT'S THE STORY MORNING GLORY                     OASIS   \n",
       "59       60                AUTOMATIC FOR THE PEOPLE                       REM   \n",
       "13       14                                   STARS                SIMPLY RED   \n",
       "11       12               THE IMMACULATE COLLECTION                   MADONNA   \n",
       "38       39                           BUT SERIOUSLY              PHIL COLLINS   \n",
       "43       44                           TRACY CHAPMAN             TRACY CHAPMAN   \n",
       "35       36                         THE JOSHUA TREE                        U2   \n",
       "50       51                               GRACELAND                PAUL SIMON   \n",
       "7         8                        BROTHERS IN ARMS              DIRE STRAITS   \n",
       "15       16                                  LEGEND  BOB MARLEY & THE WAILERS   \n",
       "5         6                                THRILLER           MICHAEL JACKSON   \n",
       "0         1                           GREATEST HITS                     QUEEN   \n",
       "36       37                   THE WAR OF THE WORLDS                JEFF WAYNE   \n",
       "46       47                                  GREASE       ORIGINAL SOUNDTRACK   \n",
       "18       19                         BAT OUT OF HELL                 MEAT LOAF   \n",
       "10       11                                 RUMOURS             FLEETWOOD MAC   \n",
       "45       46                           GREATEST HITS                      ABBA   \n",
       "41       42                           TUBULAR BELLS             MIKE OLDFIELD   \n",
       "6         7               THE DARK SIDE OF THE MOON                PINK FLOYD   \n",
       "20       21              BRIDGE OVER TROUBLED WATER         SIMON & GARFUNKEL   \n",
       "2         3    SGT PEPPER'S LONELY HEARTS CLUB BAND                   BEATLES   \n",
       "51       52                      THE SOUND OF MUSIC   ORIGINAL CAST RECORDING   \n",
       "\n",
       "     Rok  \n",
       "48  2014  \n",
       "3   2011  \n",
       "23  2009  \n",
       "32  2008  \n",
       "29  2008  \n",
       "22  2007  \n",
       "57  2006  \n",
       "12  2006  \n",
       "58  2005  \n",
       "37  2004  \n",
       "34  2004  \n",
       "16  2004  \n",
       "49  2002  \n",
       "44  2000  \n",
       "24  2000  \n",
       "54  2000  \n",
       "42  1999  \n",
       "47  1998  \n",
       "25  1998  \n",
       "52  1998  \n",
       "14  1997  \n",
       "27  1997  \n",
       "17  1997  \n",
       "28  1996  \n",
       "40  1995  \n",
       "4   1995  \n",
       "59  1992  \n",
       "13  1991  \n",
       "11  1990  \n",
       "38  1989  \n",
       "43  1988  \n",
       "35  1987  \n",
       "50  1986  \n",
       "7   1985  \n",
       "15  1984  \n",
       "5   1982  \n",
       "0   1981  \n",
       "36  1978  \n",
       "46  1977  \n",
       "18  1977  \n",
       "10  1977  \n",
       "45  1975  \n",
       "41  1973  \n",
       "6   1973  \n",
       "20  1970  \n",
       "2   1967  \n",
       "51  1965  "
      ]
     },
     "execution_count": 138,
     "metadata": {},
     "output_type": "execute_result"
    }
   ],
   "source": [
    "best_albums.drop_duplicates(subset='Artysta', keep='last',inplace=True)\n",
    "best_albums"
   ]
  },
  {
   "cell_type": "markdown",
   "id": "72f22cd4-f641-48e8-ace8-4c652ca1e0ed",
   "metadata": {},
   "source": [
    "####10 Zapisanie listy w pliku csv"
   ]
  },
  {
   "cell_type": "code",
   "execution_count": 141,
   "id": "5a49a4a9-3e69-4660-84b5-f09bf0d3adaf",
   "metadata": {},
   "outputs": [],
   "source": [
    "best_albums.to_csv('List_of_all_times.csv', index=False)"
   ]
  },
  {
   "cell_type": "code",
   "execution_count": null,
   "id": "d6861b62-9f97-4fa9-a8ff-11e88580f26f",
   "metadata": {},
   "outputs": [],
   "source": []
  }
 ],
 "metadata": {
  "kernelspec": {
   "display_name": "Python 3 (ipykernel)",
   "language": "python",
   "name": "python3"
  },
  "language_info": {
   "codemirror_mode": {
    "name": "ipython",
    "version": 3
   },
   "file_extension": ".py",
   "mimetype": "text/x-python",
   "name": "python",
   "nbconvert_exporter": "python",
   "pygments_lexer": "ipython3",
   "version": "3.12.3"
  }
 },
 "nbformat": 4,
 "nbformat_minor": 5
}
